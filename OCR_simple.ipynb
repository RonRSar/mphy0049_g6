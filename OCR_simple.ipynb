{
 "cells": [
  {
   "cell_type": "code",
   "execution_count": 1,
   "metadata": {},
   "outputs": [
    {
     "name": "stdout",
     "output_type": "stream",
     "text": [
      "Using Device: cuda\n"
     ]
    }
   ],
   "source": [
    "import torch\n",
    "\n",
    "device = torch.device(\"cuda\" if torch.cuda.is_available() else \"cpu\")\n",
    "print(f\"Using Device: {device}\")"
   ]
  },
  {
   "cell_type": "code",
   "execution_count": null,
   "metadata": {},
   "outputs": [],
   "source": [
    "from ultralytics import YOLO\n",
    "\n",
    "# Load model\n",
    "\n",
    "model = YOLO(\"yolov8n.yaml\") #new model\n",
    "model = YOLO(\"yolov8n.pt\") #pretrained model\n",
    "\n",
    "\n",
    "# Use the model\n",
    "model.train(data=\"coco128.yaml\", epochs=3)  # train the model\n",
    "metrics = model.val()  # evaluate model performance on the validation set\n",
    "results = model(\"https://ultralytics.com/images/bus.jpg\")  # predict on an image\n",
    "path = model.export(format=\"onnx\")  # export the model to ONNX format"
   ]
  },
  {
   "cell_type": "code",
   "execution_count": 4,
   "metadata": {},
   "outputs": [],
   "source": [
    "import cv2\n",
    "\n",
    "vid = cv2.VideoCapture(0)\n",
    "\n",
    "while (True):\n",
    "    #frame capture\n",
    "    ret, frame = vid.read()\n",
    "\n",
    "    #display fra,e\n",
    "    cv2.imshow('Camera', frame)\n",
    "\n",
    "    if cv2.waitKey(1) & 0xFF == ord('q'):\n",
    "        break\n",
    "\n",
    "vid.release()\n",
    "cv2.destroyAllWindows()\n"
   ]
  },
  {
   "cell_type": "code",
   "execution_count": 4,
   "metadata": {},
   "outputs": [],
   "source": [
    "import pytesseract\n",
    "import cv2\n",
    "# pytesseract.pytesseract.tesseract_cmd = 'System_path_to_tesseract.exe'\n",
    "\n",
    "file = cv2.imread(\"test_text.jpg\")\n",
    "text = pytesseract.image_to_string(file)\n",
    "org = (50,50)\n",
    "font = cv2.FONT_HERSHEY_SIMPLEX\n",
    "fontscale = 1\n",
    "color = (255,0,0)\n",
    "thickness = 2\n",
    "file = cv2.putText(file,text,org, font, fontscale, color, thickness, cv2.LINE_AA)\n",
    "cv2.imshow('image', file)\n",
    "while True: \n",
    "    if cv2.waitKey(1) & 0xFF == ord('q'):\n",
    "        break\n",
    "\n",
    "cv2.destroyAllWindows()"
   ]
  },
  {
   "cell_type": "code",
   "execution_count": 10,
   "metadata": {},
   "outputs": [],
   "source": [
    "import cv2\n",
    "import cv2\n",
    "\n",
    "vid = cv2.VideoCapture(0)\n",
    "\n",
    "hold = 'Start'\n",
    "while (True):\n",
    "    #frame capture\n",
    "    ret, frame = vid.read()\n",
    "\n",
    "    #frame read\n",
    "    text = pytesseract.image_to_string(frame)\n",
    "\n",
    "    #if text is coherent, hold it \n",
    "\n",
    "\n",
    "    \n",
    "    if len(text) > 5:\n",
    "        hold = text\n",
    "\n",
    "    #display frame\n",
    "    cv2.putText(frame, hold, (50,50), cv2.FONT_HERSHEY_SIMPLEX, 1, (0,225,0), 2, cv2.LINE_AA)\n",
    "    cv2.imshow('Camera', frame)\n",
    "\n",
    "    if cv2.waitKey(1) & 0xFF == ord('q'):\n",
    "        break\n",
    "\n",
    "vid.release()\n",
    "cv2.destroyAllWindows()\n"
   ]
  }
 ],
 "metadata": {
  "kernelspec": {
   "display_name": "mphy0049_g6",
   "language": "python",
   "name": "python3"
  },
  "language_info": {
   "codemirror_mode": {
    "name": "ipython",
    "version": 3
   },
   "file_extension": ".py",
   "mimetype": "text/x-python",
   "name": "python",
   "nbconvert_exporter": "python",
   "pygments_lexer": "ipython3",
   "version": "3.10.13"
  }
 },
 "nbformat": 4,
 "nbformat_minor": 2
}
